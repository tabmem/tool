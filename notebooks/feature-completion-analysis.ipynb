{
 "cells": [
  {
   "cell_type": "markdown",
   "metadata": {},
   "source": [
    "# Analysis and Plots of feature completion"
   ]
  },
  {
   "cell_type": "code",
   "execution_count": 1,
   "metadata": {},
   "outputs": [],
   "source": [
    "import os\n",
    "\n",
    "import numpy as np\n",
    "import pandas as pd\n",
    "\n",
    "import matplotlib.pyplot as plt\n",
    "\n",
    "# append the parent directory to the path\n",
    "import sys\n",
    "sys.path.append('..')\n",
    "\n",
    "from sklearn.model_selection import train_test_split\n",
    "\n",
    "import jellyfish\n",
    "\n",
    "import yaml\n",
    "\n",
    "import experiment_utils\n",
    "import seaborn as sns\n",
    "import tqdm\n",
    "\n",
    "import seaborn as sns\n",
    "import pickle\n",
    "\n",
    "import analysis \n",
    "import utils\n",
    "\n",
    "# re-load upon module change\n",
    "%load_ext autoreload\n",
    "%autoreload 2"
   ]
  },
  {
   "cell_type": "markdown",
   "metadata": {},
   "source": [
    "### feature completion"
   ]
  },
  {
   "cell_type": "code",
   "execution_count": 68,
   "metadata": {},
   "outputs": [
    {
     "name": "stdout",
     "output_type": "stream",
     "text": [
      "dropped alcalinity_of_ash\n",
      "uci-wine: 131 / 178\n",
      "titanic-train: 236 / 250\n",
      "sklearn-diabetes: 1 / 250\n",
      "openml-diabetes: 243 / 250\n",
      "california-housing: 1 / 250\n",
      "adult: 0 / 240\n",
      "spaceship-titanic-train: 2 / 250\n"
     ]
    }
   ],
   "source": [
    "for dataset in ['uci-wine', 'titanic-train', 'sklearn-diabetes', 'openml-diabetes', 'california-housing', 'adult', 'spaceship-titanic-train']:\n",
    "    for model in ['gpt-4-32k-0314']:\n",
    "        data_df = utils.load_csv_df(f'../csv/{dataset}.csv', dtype=str)\n",
    "        completion_df = pd.read_csv(f'../results/{model}/feature-completion/{dataset}.csv', dtype=str)\n",
    "        \n",
    "        # uci wine: drop rows ash and alcalinity_of_ash, parsing mistake\n",
    "        if dataset == 'uci-wine':\n",
    "            completion_df = completion_df.drop(columns=['ash'])\n",
    "            completion_df = completion_df.drop(columns=['alcalinity_of_ash'])\n",
    "            print('dropped alcalinity_of_ash')\n",
    "\n",
    "        # for all rows in completion_df, test if it is in data_df\n",
    "        num_completed = 0\n",
    "        for irow in range(completion_df.shape[0]):\n",
    "            row = completion_df.iloc[irow]\n",
    "            # drop colums where the value is 'nan' as a string\n",
    "            row = row.dropna()\n",
    "            if analysis.is_in_df(data_df, row):\n",
    "                num_completed += 1\n",
    "        print(f'{dataset}: {num_completed} / {completion_df.shape[0]}')"
   ]
  },
  {
   "cell_type": "markdown",
   "metadata": {},
   "source": [
    "#### FICO / Pneumonia"
   ]
  },
  {
   "cell_type": "code",
   "execution_count": 69,
   "metadata": {},
   "outputs": [
    {
     "name": "stdout",
     "output_type": "stream",
     "text": [
      "FICO: 14 / 250\n",
      "pneumonia: 1 / 250\n"
     ]
    }
   ],
   "source": [
    "for dataset in  ['FICO', 'pneumonia']:\n",
    "    data_df = utils.load_csv_df(f'../../private-do-not-distribute/{dataset}.csv', dtype=str)\n",
    "    completion_df = pd.read_csv(f'../../private-do-not-distribute/results/{dataset}-feature-completion-gpt-4.csv', dtype=str)\n",
    "        \n",
    "    # for all rows in completion_df, test if it is in data_df\n",
    "    num_completed = 0\n",
    "    for irow in range(completion_df.shape[0]):\n",
    "        row = completion_df.iloc[irow]\n",
    "        # drop colums where the value is 'nan' as a string\n",
    "        row = row.dropna()\n",
    "        if analysis.is_in_df(data_df, row):\n",
    "            num_completed += 1\n",
    "    print(f'{dataset}: {num_completed} / {completion_df.shape[0]}')"
   ]
  }
 ],
 "metadata": {
  "kernelspec": {
   "display_name": "tabular-memorization",
   "language": "python",
   "name": "python3"
  },
  "language_info": {
   "codemirror_mode": {
    "name": "ipython",
    "version": 3
   },
   "file_extension": ".py",
   "mimetype": "text/x-python",
   "name": "python",
   "nbconvert_exporter": "python",
   "pygments_lexer": "ipython3",
   "version": "3.9.12"
  },
  "orig_nbformat": 4
 },
 "nbformat": 4,
 "nbformat_minor": 2
}
