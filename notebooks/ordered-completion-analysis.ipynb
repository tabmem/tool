{
 "cells": [
  {
   "cell_type": "markdown",
   "metadata": {},
   "source": [
    "# Analysis and Plots of ordered feature completion"
   ]
  },
  {
   "cell_type": "code",
   "execution_count": null,
   "metadata": {},
   "outputs": [],
   "source": [
    "import os\n",
    "\n",
    "import numpy as np\n",
    "import pandas as pd\n",
    "\n",
    "import matplotlib.pyplot as plt\n",
    "\n",
    "# append the parent directory to the path\n",
    "import sys\n",
    "sys.path.append('..')\n",
    "\n",
    "from sklearn.model_selection import train_test_split\n",
    "\n",
    "import jellyfish\n",
    "\n",
    "import yaml\n",
    "\n",
    "import experiment_utils\n",
    "import seaborn as sns\n",
    "import tqdm\n",
    "\n",
    "import seaborn as sns\n",
    "import pickle\n",
    "\n",
    "import analysis \n",
    "import utils\n",
    "\n",
    "# re-load upon module change\n",
    "%load_ext autoreload\n",
    "%autoreload 2"
   ]
  },
  {
   "cell_type": "markdown",
   "metadata": {},
   "source": [
    "### we analyse the completion of the last feature in the data frame"
   ]
  },
  {
   "cell_type": "code",
   "execution_count": null,
   "metadata": {},
   "outputs": [],
   "source": [
    "def conditional_completion_analysis(csv_file, completions_df):\n",
    "    \"\"\"Analysis for the conditional completion test\"\"\"\n",
    "    data_df = utils.load_csv_df(csv_file)\n",
    "    feature_names = utils.get_feature_names(csv_file)\n",
    "    results = {}\n",
    "\n",
    "    # the unique values of 'num_prefix_features'\n",
    "    all_prefix_features = completions_df[\"num_prefix_features\"].unique().tolist()\n",
    "\n",
    "    # for each number of prefix features\n",
    "    for num_prefix_features in all_prefix_features:\n",
    "        completion_feature_name = feature_names[num_prefix_features]\n",
    "        marginal_distribution = data_df[completion_feature_name].values\n",
    "        mode_completion = data_df[completion_feature_name].mode().values[0]\n",
    "        valid_completions = []\n",
    "        valid_marginal_completions = []\n",
    "        valid_mode_completions = []\n",
    "\n",
    "        # the respective data frame with the responses\n",
    "        df = completions_df[completions_df[\"num_prefix_features\"] == num_prefix_features]\n",
    "\n",
    "        # for each response in the data frame\n",
    "        for _, row in df.iterrows():\n",
    "            # look at the response up to num_prefix_featues +1 (that is, inlcuding the first completed feature)\n",
    "            # does the response occur in the dataset?\n",
    "            response = row[: num_prefix_features + 1]\n",
    "            #print(response)\n",
    "            #print(analysis.is_in_df(data_df, response))\n",
    "            # print(type(response))\n",
    "            valid_completions.append(analysis.is_in_df(data_df, response))\n",
    "\n",
    "            # now, replace the actual completion from a completion drawn from the marginal distribution in the dataset\n",
    "            response[completion_feature_name] = np.random.choice(marginal_distribution)\n",
    "            valid_marginal_completions.append(analysis.is_in_df(data_df, response))\n",
    "            #print(response)\n",
    "            #print(analysis.is_in_df(data_df, response))\n",
    "            #break\n",
    "\n",
    "            # now, replace the actual completion with the most common completion in the dataset\n",
    "            response[completion_feature_name] = mode_completion\n",
    "            valid_mode_completions.append(analysis.is_in_df(data_df, response))\n",
    "\n",
    "        print(\"Feature: \", completion_feature_name)\n",
    "        print(np.mean(valid_completions), np.std(valid_completions) / np.sqrt(len(valid_completions)))\n",
    "        print(np.mean(valid_marginal_completions), np.std(valid_marginal_completions) / np.sqrt(len(valid_marginal_completions)))\n",
    "        print(np.mean(valid_mode_completions), np.std(valid_mode_completions) / np.sqrt(len(valid_mode_completions)))\n",
    "        print('-'*80)\n",
    "\n",
    "        results[(completion_feature_name, num_prefix_features)] = {\n",
    "            \"valid_completions\": valid_completions,\n",
    "            \"valid_marginal_completions\": valid_marginal_completions,\n",
    "            \"valid_mode_completions\": valid_mode_completions\n",
    "        }\n",
    "    return results"
   ]
  },
  {
   "cell_type": "code",
   "execution_count": null,
   "metadata": {},
   "outputs": [],
   "source": [
    "# adult completion analysis\n",
    "csv_file = '../csv/adult.csv'\n",
    "\n",
    "\n",
    "adult_feature_names = utils.get_feature_names('../csv/adult.csv')\n",
    "features = ['Education', 'EducationNum', 'Occupation', 'Gender', 'CapitalLoss', 'HoursPerWeek', 'NativeCountry', 'Income']\n",
    "\n",
    "feature_name = 'Occupation'\n",
    "completions_df = pd.read_csv(f'../results/gpt-4-32k-0314/ordered-completion/adult-{feature_name}.csv', dtype=str)\n",
    "\n",
    "#completions_df = pd.read_csv('../results/adult-completion-v1(full).csv', dtype=str)\n",
    "completions_df[\"num_prefix_features\"] = len(completions_df.columns) - 1\n",
    "\n",
    "conditional_completion_analysis(csv_file, completions_df)"
   ]
  },
  {
   "cell_type": "markdown",
   "metadata": {},
   "source": [
    "### adult"
   ]
  },
  {
   "cell_type": "code",
   "execution_count": null,
   "metadata": {},
   "outputs": [],
   "source": [
    "adult_results = {}\n",
    "csv_file = '../csv/adult.csv'\n",
    "feature_names = utils.get_feature_names(csv_file)\n",
    "completion_fn = ['Education', 'EducationNum', 'Occupation', 'Gender', 'CapitalLoss', 'HoursPerWeek', 'NativeCountry', 'Income']\n",
    "for feature_name in completion_fn:\n",
    "    #completions_df = pd.read_csv(f'../results/gpt-4-32k-0314/ordered-completion/adult-{feature_name}.csv', dtype=str)\n",
    "    completions_df = pd.read_csv(f'../results/gpt-3.5-turbo/ordered-completion/adult-{feature_name}.csv', dtype=str)\n",
    "    completions_df[\"num_prefix_features\"] = len(completions_df.columns) - 1\n",
    "    # keep the first 10 rows (debugging)\n",
    "    # completions_df = completions_df[:10]\n",
    "    results = conditional_completion_analysis(csv_file, completions_df)\n",
    "    # join dictionaries\n",
    "    adult_results = {**adult_results, **results}1"
   ]
  },
  {
   "cell_type": "code",
   "execution_count": null,
   "metadata": {},
   "outputs": [],
   "source": [
    "# store results with pickle\n",
    "#with open('../results/gpt-4-32k-0314/ordered-completion/adult-results.pickle', 'wb') as handle:\n",
    "#    pickle.dump(adult_results, handle, protocol=pickle.HIGHEST_PROTOCOL)"
   ]
  },
  {
   "cell_type": "code",
   "execution_count": null,
   "metadata": {},
   "outputs": [],
   "source": [
    "# store results with pickle\n",
    "#with open('../results/gpt-3.5-turbo/ordered-completion/adult-results.pickle', 'wb') as handle:\n",
    "#    pickle.dump(adult_results, handle, protocol=pickle.HIGHEST_PROTOCOL)"
   ]
  },
  {
   "cell_type": "code",
   "execution_count": null,
   "metadata": {},
   "outputs": [],
   "source": [
    "# load results\n",
    "adult_results = pickle.load(open('../results/gpt-4-32k-0314/ordered-completion/adult-results.pickle', 'rb'))\n",
    "adult_results35 = pickle.load(open('../results/gpt-3.5-turbo/ordered-completion/adult-results.pickle', 'rb'))"
   ]
  },
  {
   "cell_type": "code",
   "execution_count": null,
   "metadata": {},
   "outputs": [],
   "source": [
    "# plot. on the x axis are the features, and we have one curve for each type of completion\n",
    "completions_mean = [np.mean(v['valid_completions']) for k, v in adult_results.items()]\n",
    "completions_lower_95 = [np.mean(v['valid_completions']) - 1.96 * np.std(v['valid_completions']) / np.sqrt(len(v['valid_completions'])) for k, v in adult_results.items()]\n",
    "completions_upper_95 = [np.mean(v['valid_completions']) + 1.96 * np.std(v['valid_completions']) / np.sqrt(len(v['valid_completions'])) for k, v in adult_results.items()]\n",
    "\n",
    "completions35_mean = [np.mean(v['valid_completions']) for k, v in adult_results35.items()]\n",
    "completions35_lower_95 = [np.mean(v['valid_completions']) - 1.96 * np.std(v['valid_completions']) / np.sqrt(len(v['valid_completions'])) for k, v in adult_results35.items()]\n",
    "completions35_upper_95 = [np.mean(v['valid_completions']) + 1.96 * np.std(v['valid_completions']) / np.sqrt(len(v['valid_completions'])) for k, v in adult_results35.items()]\n",
    "\n",
    "marginal_completions_mean = [np.mean(v['valid_marginal_completions']) for k, v in adult_results.items()]\n",
    "marginal_completions_lower_95 = [np.mean(v['valid_marginal_completions']) - 1.96 * np.std(v['valid_marginal_completions']) / np.sqrt(len(v['valid_marginal_completions'])) for k, v in adult_results.items()]\n",
    "marginal_completions_upper_95 = [np.mean(v['valid_marginal_completions']) + 1.96 * np.std(v['valid_marginal_completions']) / np.sqrt(len(v['valid_marginal_completions'])) for k, v in adult_results.items()]\n",
    "\n",
    "mode_completions_mean = [np.mean(v['valid_mode_completions']) for k, v in adult_results.items()]\n",
    "mode_completions_lower_95 = [np.mean(v['valid_mode_completions']) - 1.96 * np.std(v['valid_mode_completions']) / np.sqrt(len(v['valid_mode_completions'])) for k, v in adult_results.items()]\n",
    "mode_completions_upper_95 = [np.mean(v['valid_mode_completions']) + 1.96 * np.std(v['valid_mode_completions']) / np.sqrt(len(v['valid_mode_completions'])) for k, v in adult_results.items()]"
   ]
  },
  {
   "cell_type": "code",
   "execution_count": null,
   "metadata": {},
   "outputs": [],
   "source": [
    "# adjust overall plot fong size\n",
    "sns.set(font_scale=1.4)\n",
    "\n",
    "# white, no grid\n",
    "sns.set_style(\"white\")\n",
    "\n",
    "# plot\n",
    "plt.figure(figsize=(10, 5))\n",
    "\n",
    "# line style dots with dashes, for all three lines\n",
    "plt.plot(completions_mean, label='GPT-4', linestyle='dashed', marker='o', markersize=8, linewidth=2, color='blue')\n",
    "plt.fill_between(range(len(completions_mean)), completions_lower_95, completions_upper_95, alpha=0.2, color='blue')\n",
    "\n",
    "plt.plot(completions35_mean, label='GPT-3.5-turbo', linestyle='dashed', marker='o', markersize=8, linewidth=2, color='green')\n",
    "plt.fill_between(range(len(completions35_mean)), completions35_lower_95, completions35_upper_95, alpha=0.2, color='green')\n",
    "\n",
    "plt.plot(marginal_completions_mean, label='Marginal Distribution', linestyle='dashed', marker='o', markersize=8, linewidth=2, color='orange')\n",
    "plt.fill_between(range(len(marginal_completions_mean)), marginal_completions_lower_95, marginal_completions_upper_95, alpha=0.2, color='orange')\n",
    "\n",
    "#plt.plot(mode_completions_mean, label='Mode', linestyle='dashed', marker='o', markersize=8, linewidth=2, color='green')\n",
    "#plt.fill_between(range(len(mode_completions_mean)), mode_completions_lower_95, mode_completions_upper_95, alpha=0.2, color='green')\n",
    "\n",
    "plt.xticks(range(8), ['Education', 'EducationNum', 'Occupation', 'Gender', 'CapitalLoss', 'HoursPerWeek', 'NativeCountry', 'Income'], rotation=25)\n",
    "\n",
    "# y axis label\n",
    "plt.ylabel('Probability of a Valid Completion')\n",
    "\n",
    "# title\n",
    "plt.title('Adult Income')\n",
    "\n",
    "# legend below the plot\n",
    "plt.legend(loc='upper center', bbox_to_anchor=(0.5, -0.3), fancybox=True, shadow=True, ncol=3)\n",
    "\n",
    "# save plot\n",
    "plt.savefig('figures/adult-ordered-completion.pdf', bbox_inches='tight')"
   ]
  },
  {
   "cell_type": "markdown",
   "metadata": {},
   "source": [
    "### fico"
   ]
  },
  {
   "cell_type": "code",
   "execution_count": null,
   "metadata": {},
   "outputs": [],
   "source": [
    "fico_results = {}\n",
    "csv_file = '../../private-do-not-distribute/fico.csv'\n",
    "feature_names = utils.get_feature_names(csv_file)\n",
    "completion_fn = ['AverageMInFile',\n",
    "    'NumTrades90Ever2DerogPubRec',\n",
    "    'MaxDelq2PublicRecLast12M',\n",
    "    'NumTradesOpeninLast12M',\n",
    "    'NumInqLast6M',\n",
    "    'NetFractionInstallBurden',\n",
    "    'NumBank2NatlTradesWHighUtilization',\n",
    "    'PercentTradesWBalance']\n",
    "for feature_name in completion_fn:\n",
    "    #completions_df = pd.read_csv(f'../../private-do-not-distribute/results/fico-ordered-completion-gpt4-{feature_name}.csv', dtype=str)\n",
    "    completions_df = pd.read_csv(f'../../private-do-not-distribute/results/fico-ordered-completion-gpt3.5-turbo-{feature_name}.csv', dtype=str)\n",
    "    completions_df[\"num_prefix_features\"] = len(completions_df.columns) - 1\n",
    "    # keep the first 10 rows (debugging)\n",
    "    #completions_df = completions_df[:10]\n",
    "    results = conditional_completion_analysis(csv_file, completions_df)\n",
    "    # join dictionaries\n",
    "    fico_results = {**fico_results, **results}"
   ]
  },
  {
   "cell_type": "code",
   "execution_count": null,
   "metadata": {},
   "outputs": [],
   "source": [
    "# store results with pickle\n",
    "#with open('../../private-do-not-distribute/results/fico-ordered-completion-gpt4-results.pickle', 'wb') as handle:\n",
    "#   pickle.dump(fico_results, handle, protocol=pickle.HIGHEST_PROTOCOL)"
   ]
  },
  {
   "cell_type": "code",
   "execution_count": null,
   "metadata": {},
   "outputs": [],
   "source": [
    "#with open('../../private-do-not-distribute/results/fico-ordered-completion-gpt3.5-turbo-results.pickle', 'wb') as handle:\n",
    "#   pickle.dump(fico_results, handle, protocol=pickle.HIGHEST_PROTOCOL)"
   ]
  },
  {
   "cell_type": "code",
   "execution_count": null,
   "metadata": {},
   "outputs": [],
   "source": [
    "fico_results_gpt4 = pickle.load(open('../../private-do-not-distribute/results/fico-ordered-completion-gpt4-results.pickle', 'rb'))\n",
    "fico_results_gpt35 = pickle.load(open('../../private-do-not-distribute/results/fico-ordered-completion-gpt3.5-turbo-results.pickle', 'rb'))"
   ]
  },
  {
   "cell_type": "code",
   "execution_count": null,
   "metadata": {},
   "outputs": [],
   "source": [
    "completions_mean = [np.mean(v['valid_completions']) for k, v in fico_results_gpt4.items()]\n",
    "completions_lower_95 = [np.mean(v['valid_completions']) - 1.96 * np.std(v['valid_completions']) / np.sqrt(len(v['valid_completions'])) for k, v in fico_results_gpt4.items()]\n",
    "completions_upper_95 = [np.mean(v['valid_completions']) + 1.96 * np.std(v['valid_completions']) / np.sqrt(len(v['valid_completions'])) for k, v in fico_results_gpt4.items()]\n",
    "\n",
    "completions35_mean = [np.mean(v['valid_completions']) for k, v in fico_results_gpt35.items()]\n",
    "completions35_lower_95 = [np.mean(v['valid_completions']) - 1.96 * np.std(v['valid_completions']) / np.sqrt(len(v['valid_completions'])) for k, v in fico_results_gpt35.items()]\n",
    "completions35_upper_95 = [np.mean(v['valid_completions']) + 1.96 * np.std(v['valid_completions']) / np.sqrt(len(v['valid_completions'])) for k, v in fico_results_gpt35.items()]\n",
    "\n",
    "marginal_completions_mean = [np.mean(v['valid_marginal_completions']) for k, v in fico_results_gpt4.items()]\n",
    "marginal_completions_lower_95 = [np.mean(v['valid_marginal_completions']) - 1.96 * np.std(v['valid_marginal_completions']) / np.sqrt(len(v['valid_marginal_completions'])) for k, v in fico_results_gpt4.items()]\n",
    "marginal_completions_upper_95 = [np.mean(v['valid_marginal_completions']) + 1.96 * np.std(v['valid_marginal_completions']) / np.sqrt(len(v['valid_marginal_completions'])) for k, v in fico_results_gpt4.items()]\n",
    "\n",
    "mode_completions_mean = [np.mean(v['valid_mode_completions']) for k, v in fico_results_gpt4.items()]\n",
    "mode_completions_lower_95 = [np.mean(v['valid_mode_completions']) - 1.96 * np.std(v['valid_mode_completions']) / np.sqrt(len(v['valid_mode_completions'])) for k, v in fico_results_gpt4.items()]\n",
    "mode_completions_upper_95 = [np.mean(v['valid_mode_completions']) + 1.96 * np.std(v['valid_mode_completions']) / np.sqrt(len(v['valid_mode_completions'])) for k, v in fico_results_gpt4.items()]\n"
   ]
  },
  {
   "cell_type": "code",
   "execution_count": null,
   "metadata": {},
   "outputs": [],
   "source": [
    "# adjust overall plot fong size\n",
    "sns.set(font_scale=1.4)\n",
    "\n",
    "# white, no grid\n",
    "sns.set_style(\"white\")\n",
    "\n",
    "# plot\n",
    "plt.figure(figsize=(10, 5))\n",
    "\n",
    "# line style dots with dashes, for all three lines\n",
    "plt.plot(completions_mean, label='GPT-4', linestyle='dashed', marker='o', markersize=8, linewidth=2, color='blue')\n",
    "plt.fill_between(range(len(completions_mean)), completions_lower_95, completions_upper_95, alpha=0.2, color='blue')\n",
    "\n",
    "# gpt-3\n",
    "plt.plot(completions35_mean, label='GPT-3.5-turbo', linestyle='dashed', marker='o', markersize=8, linewidth=2, color='green')\n",
    "plt.fill_between(range(len(completions35_mean)), completions35_lower_95, completions35_upper_95, alpha=0.2, color='green')\n",
    "\n",
    "plt.plot(marginal_completions_mean, label='Marginal Distribution', linestyle='dashed', marker='o', markersize=8, linewidth=2, color='orange')\n",
    "plt.fill_between(range(len(marginal_completions_mean)), marginal_completions_lower_95, marginal_completions_upper_95, alpha=0.2, color='orange')\n",
    "\n",
    "#plt.plot(mode_completions_mean, label='Mode', linestyle='dashed', marker='o', markersize=8, linewidth=2, color='green')\n",
    "#plt.fill_between(range(len(mode_completions_mean)), mode_completions_lower_95, mode_completions_upper_95, alpha=0.2, color='green')\n",
    "\n",
    "plt.xticks(range(len(completion_fn)), ['AverageMInFile', 'NumTrades90', 'MaxDelq2', 'NumTradesOpen', 'NumInqLast6M', 'InstallBurden', 'TradesWHighUtilization', 'PercentTradesWBalance'], rotation=20)\n",
    "\n",
    "# y axis label\n",
    "plt.ylabel('Probability of a Valid Completion')\n",
    "\n",
    "# title\n",
    "plt.title('FICO')\n",
    "\n",
    "# legend below the plot\n",
    "plt.legend(loc='upper center', bbox_to_anchor=(0.5, -0.3), fancybox=True, shadow=True, ncol=3)\n",
    "\n",
    "# save as pdf\n",
    "plt.savefig('figures/fico-ordered-completion.pdf', bbox_inches='tight')"
   ]
  },
  {
   "cell_type": "code",
   "execution_count": null,
   "metadata": {},
   "outputs": [],
   "source": [
    "completion_fn"
   ]
  },
  {
   "cell_type": "code",
   "execution_count": null,
   "metadata": {},
   "outputs": [],
   "source": [
    "['AverageMInFile', 'NumTrades90', 'MaxDelq2', 'NumTradesOpen', 'NumInqLast6M', 'InstallBurden', 'TradesWHighUtilization', 'PercentTradesWBalance']"
   ]
  }
 ],
 "metadata": {
  "kernelspec": {
   "display_name": "tabular-memorization",
   "language": "python",
   "name": "python3"
  },
  "language_info": {
   "codemirror_mode": {
    "name": "ipython",
    "version": 3
   },
   "file_extension": ".py",
   "mimetype": "text/x-python",
   "name": "python",
   "nbconvert_exporter": "python",
   "pygments_lexer": "ipython3",
   "version": "3.9.12"
  },
  "orig_nbformat": 4
 },
 "nbformat": 4,
 "nbformat_minor": 2
}
